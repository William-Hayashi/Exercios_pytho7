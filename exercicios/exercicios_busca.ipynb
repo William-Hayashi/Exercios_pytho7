{
 "cells": [
  {
   "cell_type": "markdown",
   "id": "6aeedd15",
   "metadata": {},
   "source": [
    "# Exercícios sobre Busca Sequencial e Busca Binária"
   ]
  },
  {
   "cell_type": "markdown",
   "id": "0b5b37f8",
   "metadata": {},
   "source": [
    "## Instruções\n",
    "\n",
    "Resolva os exercícios propostos abaixo. Para cada exercício, implemente sua solução em Python e teste-a com diferentes entradas de dados para garantir que está correto."
   ]
  },
  {
   "cell_type": "markdown",
   "id": "e8255753",
   "metadata": {},
   "source": [
    "## Exercício 1\n",
    "\n",
    "Implemente a função `busca_sequencial` que recebe uma lista e um valor a ser procurado na lista. A função deve retornar o índice do valor na lista, se encontrado, ou `-1` caso contrário."
   ]
  },
  {
   "cell_type": "code",
   "execution_count": 4,
   "id": "7d6dd473",
   "metadata": {},
   "outputs": [
    {
     "name": "stdout",
     "output_type": "stream",
     "text": [
      "2\n",
      "-1\n"
     ]
    }
   ],
   "source": [
    "def busca_sequencial(lista, valor):\n",
    "    for i, number in enumerate(lista):\n",
    "        if valor == number:\n",
    "            return (i)\n",
    "    return -1    \n",
    "\n",
    "# Teste sua função\n",
    "print(busca_sequencial([1, 2, 3, 4, 5], 3))  # Deve retornar 2\n",
    "print(busca_sequencial([1, 2, 3, 4, 5], 6))  # Deve retornar -1"
   ]
  },
  {
   "cell_type": "markdown",
   "id": "8e82c627",
   "metadata": {},
   "source": [
    "## Exercício 2\n",
    "\n",
    "Implemente a função `busca_binaria` que recebe uma lista ordenada e um valor a ser procurado na lista. A função deve retornar o índice do valor na lista, se encontrado, ou `-1` caso contrário."
   ]
  },
  {
   "cell_type": "code",
   "execution_count": 9,
   "id": "8eb089e9",
   "metadata": {},
   "outputs": [
    {
     "name": "stdout",
     "output_type": "stream",
     "text": [
      "2\n",
      "-1\n"
     ]
    }
   ],
   "source": [
    "def busca_binaria(lista, valor):\n",
    "    min = 0\n",
    "    max = len(lista)-1\n",
    "   \n",
    "    while max >= min:\n",
    "        chute = (min+max)//2\n",
    "        if lista[chute] == valor:\n",
    "            return chute\n",
    "        elif lista[chute] < valor:\n",
    "            min = chute + 1\n",
    "        else:\n",
    "            max = chute - 1\n",
    "\n",
    "    return -1\n",
    "         \n",
    "\n",
    "# Teste sua função\n",
    "print(busca_binaria([1, 2, 3, 4, 5], 3))  # Deve retornar 2\n",
    "print(busca_binaria([1, 2, 3, 4, 5], 6))  # Deve retornar -1"
   ]
  },
  {
   "cell_type": "markdown",
   "id": "9f14a29c",
   "metadata": {},
   "source": [
    "## Exercício 3\n",
    "\n",
    "Modifique a função `busca_binaria` para que ela conte e retorne o número de comparações realizadas durante a busca, além do índice do elemento encontrado, ou `-1` caso contrário."
   ]
  },
  {
   "cell_type": "code",
   "execution_count": 11,
   "id": "9222b552",
   "metadata": {},
   "outputs": [
    {
     "name": "stdout",
     "output_type": "stream",
     "text": [
      "(2, 1)\n"
     ]
    }
   ],
   "source": [
    "def busca_binaria_com_contagem(lista, valor):\n",
    "    min = 0\n",
    "    max = len(lista)-1\n",
    "    \n",
    "   \n",
    "    while max >= min:\n",
    "        chute = (min+max)//2\n",
    "        contador = 1\n",
    "        if lista[chute] == valor:\n",
    "            return chute,contador\n",
    "        elif lista[chute] < valor:\n",
    "            min = chute + 1\n",
    "        else:\n",
    "            max = chute - 1\n",
    "\n",
    "        contador = contador + 1\n",
    "    \n",
    "    return -1\n",
    "         \n",
    "\n",
    "# Teste sua função\n",
    "print(busca_binaria_com_contagem([1, 2, 3, 4, 5], 3))  # Deve retornar (2, X) onde X é o número de comparações"
   ]
  },
  {
   "cell_type": "markdown",
   "id": "806c2667",
   "metadata": {},
   "source": [
    "## Exercício 4\n",
    "\n",
    "Escreva uma função `gerar_lista` que recebe dois parâmetros: o tamanho da lista e o intervalo dos valores (por exemplo, entre 1 e 100). A função deve retornar uma lista contendo números aleatórios dentro do intervalo especificado."
   ]
  },
  {
   "cell_type": "code",
   "execution_count": 1,
   "id": "478f204d",
   "metadata": {},
   "outputs": [
    {
     "name": "stdout",
     "output_type": "stream",
     "text": [
      "[44, 33, 68, 62, 61]\n"
     ]
    }
   ],
   "source": [
    "import random\n",
    "\n",
    "def gerar_lista(tamanho, intervalo):\n",
    "    global contador\n",
    "    newList = []\n",
    "    contador = 0\n",
    "    entre = list(intervalo)\n",
    "    while contador < tamanho:\n",
    "            newList.append(random.randint(entre[0], entre[1]))\n",
    "            contador += 1\n",
    "    return (newList)\n",
    "    \n",
    "\n",
    "# Teste sua função\n",
    "print(gerar_lista(5, (1, 100)))  # Exemplo de saída: [23, 67, 77, 89, 94]\n"
   ]
  },
  {
   "cell_type": "markdown",
   "id": "a1387697",
   "metadata": {},
   "source": [
    "## Exercício 5\n",
    "\n",
    "Utilize a função `gerar_lista_aleatoria` para criar uma lista de 100 elementos com valores entre 1 e 1000. Em seguida, utilize a função `busca_binaria` para encontrar um elemento na lista. Anote o número de comparações realizadas e discuta a eficiência da busca binária em comparação com a busca sequencial."
   ]
  },
  {
   "cell_type": "markdown",
   "id": "eb12c56b",
   "metadata": {},
   "source": []
  },
  {
   "cell_type": "code",
   "execution_count": 5,
   "id": "df70da99",
   "metadata": {},
   "outputs": [
    {
     "name": "stdout",
     "output_type": "stream",
     "text": [
      "Valor a ser buscado: 256\n",
      "O valor 256 foi encontrado no índice 28\n"
     ]
    }
   ],
   "source": [
    "import random\n",
    "\n",
    "def gerar_lista(tamanho, intervalo):\n",
    "    global contador\n",
    "    newList = []\n",
    "    contador = 0\n",
    "    entre = list(intervalo)\n",
    "    while contador < tamanho:\n",
    "            newList.append(random.randint(entre[0], entre[1]))\n",
    "            contador += 1\n",
    "    return (newList)\n",
    "    \n",
    "def busca_binaria(lista, valor):\n",
    "    min = 0\n",
    "    max = len(lista)-1\n",
    "   \n",
    "    while max >= min:\n",
    "        chute = (min+max)//2\n",
    "        if lista[chute] == valor:\n",
    "            return chute\n",
    "        elif lista[chute] < valor:\n",
    "            min = chute + 1\n",
    "        else:\n",
    "            max = chute - 1\n",
    "\n",
    "    return -1\n",
    "         \n",
    "\n",
    "\n",
    "lista_aleatoria = gerar_lista(100, (1, 1000))\n",
    "\n",
    "# Escolher um valor aleatório na lista\n",
    "valor_busca = random.choice(lista_aleatoria)\n",
    "\n",
    "# Ordenar a lista antes de realizar a busca binária\n",
    "lista_ordenada = sorted(lista_aleatoria)\n",
    "\n",
    "# Realizar a busca binária\n",
    "indice_encontrado = busca_binaria(lista_ordenada, valor_busca)\n",
    "\n",
    "# Imprimir resultados\n",
    "\n",
    "print(\"Valor a ser buscado:\", valor_busca)\n",
    "if indice_encontrado != -1:\n",
    "    print(\"O valor\", valor_busca, \"foi encontrado no índice\", indice_encontrado)\n",
    "else:\n",
    "    print(\"O valor\", valor_busca, \"não foi encontrado na lista.\")"
   ]
  }
 ],
 "metadata": {
  "kernelspec": {
   "display_name": "Python 3",
   "language": "python",
   "name": "python3"
  },
  "language_info": {
   "codemirror_mode": {
    "name": "ipython",
    "version": 3
   },
   "file_extension": ".py",
   "mimetype": "text/x-python",
   "name": "python",
   "nbconvert_exporter": "python",
   "pygments_lexer": "ipython3",
   "version": "3.11.8"
  }
 },
 "nbformat": 4,
 "nbformat_minor": 5
}
